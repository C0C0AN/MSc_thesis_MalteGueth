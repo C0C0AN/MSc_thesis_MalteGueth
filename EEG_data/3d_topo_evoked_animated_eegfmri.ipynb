{
 "cells": [
  {
   "cell_type": "code",
   "execution_count": 14,
   "metadata": {
    "collapsed": true
   },
   "outputs": [],
   "source": [
    "import mne\n",
    "import mne.io.eeglab\n",
    "\n",
    "montage = mne.channels.read_montage(kind='standard_1005')\n",
    "s_freq = 5000\n",
    "chanlabels = ['Fp1',\t'Fp2',\t'F3',\t'F4',\t'C3',\t'C4',\t'P3',\t'P4',\t\n",
    "              'O1',\t'O2',\t'F7',\t'F8',\t'T7',\t'T8',\t'P7',\t'P8',\t\n",
    "              'Fz',\t'Cz',\t'Pz',\t'Oz',\t'FC1',\t'FC2',\t'CP1',\t'CP2',\t\n",
    "              'FC5',\t'FC6',\t'CP5',\t'CP6',\t'TP9',\t'TP10', 'POz', 'ECG']\n",
    "ch_types = ['eeg',\t'eeg',\t'eeg',\t'eeg',\t'eeg',\t'eeg',\t'eeg',\t'eeg',\t\n",
    "            'eeg',\t'eeg',\t'eeg',\t'eeg',\t'eeg',\t'eeg',\t'eeg',\t'eeg',\t\n",
    "            'eeg',\t'eeg',\t'eeg',\t'eeg',\t'eeg',\t'eeg',\t'eeg',\t'eeg',\t\n",
    "            'eeg',\t'eeg',\t'eeg',\t'eeg',\t'eeg',\t'eeg', 'eeg', 'ecg']\n",
    "montage = mne.channels.read_montage(kind='standard_1005')\n",
    "info_custom = mne.create_info(chanlabels, s_freq, ch_types, montage=montage)\n",
    "info_custom['description'] = 'Simultaneously recorded data with customised info file'\n",
    "\n",
    "data_path1 = '/Volumes/INTENSO/DPX_EEG_fMRI/EEG/All_subjects2/Sub1_B.set' \n",
    "data_path2 = '/Volumes/INTENSO/DPX_EEG_fMRI/EEG/All_subjects2/Sub2_B.set' "
   ]
  },
  {
   "cell_type": "code",
   "execution_count": 15,
   "metadata": {},
   "outputs": [
    {
     "name": "stdout",
     "output_type": "stream",
     "text": [
      "Extracting parameters from /Volumes/INTENSO/DPX_EEG_fMRI/EEG/All_subjects2/Sub1_B.set...\n",
      "The following EEG sensors did not have a position specified in the selected montage: [u'ECG']. Their position has been left untouched.\n",
      "44 matching events found\n",
      "0 projection items activated\n",
      "Ready.\n",
      "44 matching events found\n",
      "0 projection items activated\n",
      "0 bad epochs dropped\n"
     ]
    },
    {
     "name": "stderr",
     "output_type": "stream",
     "text": [
      "<ipython-input-15-42ef1f6f0791>:2: RuntimeWarning: The following EEG sensors did not have a position specified in the selected montage: [u'ECG']. Their position has been left untouched.\n",
      "  uint16_codec=None)\n"
     ]
    },
    {
     "name": "stdout",
     "output_type": "stream",
     "text": [
      "Extracting parameters from /Volumes/INTENSO/DPX_EEG_fMRI/EEG/All_subjects2/Sub2_B.set...\n",
      "The following EEG sensors did not have a position specified in the selected montage: [u'ECG']. Their position has been left untouched.\n",
      "43 matching events found\n",
      "0 projection items activated\n",
      "Ready.\n",
      "43 matching events found\n",
      "0 projection items activated\n",
      "0 bad epochs dropped\n",
      "Identiying common channels ...\n",
      "all channels are corresponding, nothing to do.\n"
     ]
    },
    {
     "name": "stderr",
     "output_type": "stream",
     "text": [
      "<ipython-input-15-42ef1f6f0791>:7: RuntimeWarning: The following EEG sensors did not have a position specified in the selected montage: [u'ECG']. Their position has been left untouched.\n",
      "  uint16_codec=None)\n"
     ]
    }
   ],
   "source": [
    "epochs1 = mne.io.read_epochs_eeglab(data_path1, events=None, event_id=None, montage=montage, eog=(), verbose=None, \n",
    "                                   uint16_codec=None)\n",
    "conv_epochs1 = mne.EpochsArray(epochs1, info=info_custom, tmin=-0.25)\n",
    "evoked1 = conv_epochs1.average()\n",
    "\n",
    "epochs2 = mne.io.read_epochs_eeglab(data_path2, events=None, event_id=None, montage=montage, eog=(), verbose=None, \n",
    "                                   uint16_codec=None)\n",
    "conv_epochs2 = mne.EpochsArray(epochs2, info=info_custom, tmin=-0.25)\n",
    "evoked2 = conv_epochs2.average()\n",
    "\n",
    "list = [evoked1, evoked2]\n",
    "evoked = mne.grand_average(list)"
   ]
  },
  {
   "cell_type": "code",
   "execution_count": 17,
   "metadata": {},
   "outputs": [],
   "source": [
    "import numpy as np\n",
    "import matplotlib.pyplot as plt\n",
    "import mne\n",
    "import os.path as op\n",
    "from scipy.spatial import Delaunay\n",
    "import ipyvolume as p3\n",
    "\n",
    "evoked = evoked.pick_types(meg=False, eeg=True)"
   ]
  },
  {
   "cell_type": "code",
   "execution_count": 18,
   "metadata": {
    "collapsed": true
   },
   "outputs": [],
   "source": [
    "# transform evoked into colors\n",
    "cmap = plt.get_cmap('RdBu_r')\n",
    "data = np.array(evoked.data)\n",
    "n_chans, n_times = data.shape\n",
    "vmax = data.max()\n",
    "data[data<=-vmax] = -vmax\n",
    "data[data>=vmax] = vmax\n",
    "data -= -vmax\n",
    "data /= 2*vmax\n",
    "colors = np.reshape(cmap(data.ravel())[:, :3], [n_chans, n_times, 3])\n",
    "colors = colors.transpose(1, 0, 2)\n",
    "\n",
    "# set up 3D mesh\n",
    "pos3D = np.array([ch['loc'][:3] for ch in evoked.info['chs']])\n",
    "tri3D = Delaunay(pos3D).convex_hull"
   ]
  },
  {
   "cell_type": "code",
   "execution_count": 19,
   "metadata": {},
   "outputs": [
    {
     "data": {
      "application/vnd.jupyter.widget-view+json": {
       "model_id": "2c14a3cb2653438386e02d1c0172e3d3",
       "version_major": 2,
       "version_minor": 0
      },
      "text/plain": [
       "A Jupyter Widget"
      ]
     },
     "metadata": {},
     "output_type": "display_data"
    }
   ],
   "source": [
    "# plot\n",
    "fig = p3.figure()\n",
    "s = p3.plot_trisurf(pos3D[:, 0], pos3D[:, 1], [pos3D[:, 2] for _ in range(n_times)],\n",
    "                    triangles=tri3D, color=colors)\n",
    "p3.xyzlim(pos3D.min(), pos3D.max())\n",
    "p3.animation_control(s, interval=10)\n",
    "p3.show()"
   ]
  },
  {
   "cell_type": "code",
   "execution_count": 20,
   "metadata": {
    "collapsed": true
   },
   "outputs": [],
   "source": [
    "# set up 2D topography\n",
    "pos = mne.find_layout(evoked.info).pos[:, :3]\n",
    "pos -= pos.mean(0, keepdims=True)\n",
    "pos[:, 2] = (1-(pos[:, 0] ** 2 + pos[:, 1] ** 2))/1e3\n",
    "tri2D = Delaunay(pos).convex_hull"
   ]
  },
  {
   "cell_type": "code",
   "execution_count": 21,
   "metadata": {},
   "outputs": [
    {
     "data": {
      "application/vnd.jupyter.widget-view+json": {
       "model_id": "b4020a68ef7c49cd9adf4f1079dad5b6",
       "version_major": 2,
       "version_minor": 0
      },
      "text/plain": [
       "A Jupyter Widget"
      ]
     },
     "metadata": {},
     "output_type": "display_data"
    }
   ],
   "source": [
    "# plot\n",
    "fig = p3.figure()\n",
    "s = p3.plot_trisurf(pos[:, 0], pos[:, 1], [pos[:, 2] for _ in range(n_times)],\n",
    "                    triangles=tri2D, color=colors)\n",
    "p3.xyzlim(pos.min(), pos.max())\n",
    "p3.animation_control(s, interval=10, add=True)\n",
    "p3.show()"
   ]
  },
  {
   "cell_type": "code",
   "execution_count": null,
   "metadata": {
    "collapsed": true
   },
   "outputs": [],
   "source": []
  }
 ],
 "metadata": {
  "kernelspec": {
   "display_name": "Python 2",
   "language": "python",
   "name": "python2"
  },
  "language_info": {
   "codemirror_mode": {
    "name": "ipython",
    "version": 2
   },
   "file_extension": ".py",
   "mimetype": "text/x-python",
   "name": "python",
   "nbconvert_exporter": "python",
   "pygments_lexer": "ipython2",
   "version": "2.7.14"
  }
 },
 "nbformat": 4,
 "nbformat_minor": 2
}
